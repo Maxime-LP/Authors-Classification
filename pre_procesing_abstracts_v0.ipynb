{
 "cells": [
  {
   "cell_type": "code",
   "execution_count": 1,
   "metadata": {},
   "outputs": [],
   "source": [
    "import pandas as pd\n",
    "import re\n",
    "import os\n",
    "from time import time"
   ]
  },
  {
   "cell_type": "code",
   "execution_count": 2,
   "metadata": {
    "scrolled": true
   },
   "outputs": [
    {
     "ename": "FileNotFoundError",
     "evalue": "[WinError 3] Le chemin d’accès spécifié est introuvable: 'abstracts'",
     "output_type": "error",
     "traceback": [
      "\u001b[1;31m---------------------------------------------------------------------------\u001b[0m",
      "\u001b[1;31mFileNotFoundError\u001b[0m                         Traceback (most recent call last)",
      "\u001b[1;32m<ipython-input-2-f1fc595e461e>\u001b[0m in \u001b[0;36m<module>\u001b[1;34m\u001b[0m\n\u001b[1;32m----> 1\u001b[1;33m \u001b[0myears\u001b[0m \u001b[1;33m=\u001b[0m \u001b[0msorted\u001b[0m\u001b[1;33m(\u001b[0m\u001b[0mos\u001b[0m\u001b[1;33m.\u001b[0m\u001b[0mlistdir\u001b[0m\u001b[1;33m(\u001b[0m\u001b[1;34m'abstracts'\u001b[0m\u001b[1;33m)\u001b[0m\u001b[1;33m)\u001b[0m\u001b[1;33m\u001b[0m\u001b[1;33m\u001b[0m\u001b[0m\n\u001b[0m\u001b[0;32m      2\u001b[0m \u001b[1;33m\u001b[0m\u001b[0m\n\u001b[0;32m      3\u001b[0m \u001b[0mfiles\u001b[0m \u001b[1;33m=\u001b[0m \u001b[1;33m[\u001b[0m\u001b[1;33m]\u001b[0m  \u001b[1;31m# attribu en POO ?\u001b[0m\u001b[1;33m\u001b[0m\u001b[1;33m\u001b[0m\u001b[0m\n\u001b[0;32m      4\u001b[0m \u001b[0mnb_files\u001b[0m \u001b[1;33m=\u001b[0m \u001b[1;36m0\u001b[0m\u001b[1;33m\u001b[0m\u001b[1;33m\u001b[0m\u001b[0m\n\u001b[0;32m      5\u001b[0m \u001b[0mi\u001b[0m \u001b[1;33m=\u001b[0m \u001b[1;36m0\u001b[0m\u001b[1;33m\u001b[0m\u001b[1;33m\u001b[0m\u001b[0m\n",
      "\u001b[1;31mFileNotFoundError\u001b[0m: [WinError 3] Le chemin d’accès spécifié est introuvable: 'abstracts'"
     ]
    }
   ],
   "source": [
    "years = sorted(os.listdir('abstracts'))\n",
    "\n",
    "files = []  # attribu en POO ?\n",
    "nb_files = 0\n",
    "i = 0\n",
    "\n",
    "for year in years:\n",
    "    files.append(os.listdir(f'abstracts/{year}'))\n",
    "    nb_files += len(files[i])\n",
    "    i += 1\n",
    "\n",
    "print(nb_files)"
   ]
  },
  {
   "cell_type": "markdown",
   "metadata": {},
   "source": [
    "On va prendre le nom du premier fichier et le nom du dernier fichier pour les itérations."
   ]
  },
  {
   "cell_type": "code",
   "execution_count": null,
   "metadata": {
    "scrolled": true
   },
   "outputs": [],
   "source": [
    "time0 = time()\n",
    "list_authors = []\n",
    "list_papers = []\n",
    "for year, file_by_year in zip(years, files):\n",
    "    for file in sorted(file_by_year):\n",
    "        with open(f\"abstracts/{year}/{file}\",\"r\") as f:\n",
    "            \n",
    "            j=0 # for pass when there is two lines with Authors => 9201039.abs\n",
    "            \n",
    "            for line in f:\n",
    "                if j < 1:\n",
    "                    if (line[:9] == \"Authors: \"):\n",
    "                        j += 1\n",
    "                        list_authors.append(re.split(' and |, |& ', line[9:-1]))\n",
    "\n",
    "                    if line[:8] == \"Author: \": \n",
    "                        j+= 1\n",
    "                        list_authors.append(re.split(' and |, | & ', line[8:-1]))\n",
    "\n",
    "                    if line[:7]==\"Paper: \":\n",
    "                        list_papers.append(line[14:21])\n",
    "                        \n",
    "execution_time = time() - time0\n",
    "print(execution_time)"
   ]
  },
  {
   "cell_type": "code",
   "execution_count": null,
   "metadata": {},
   "outputs": [],
   "source": [
    "for paper, author in zip(list_papers, list_authors):\n",
    "    print(f\"ligne {paper} : \", author)\n",
    "    \n",
    "# ligne 9201047 :  ['18 pages'] à remplacer par Dieter Lust and Carlos Munoz\n",
    "# ligne 9206083 :  ['J.A. Casas', \"F. G\\\\'omez\", 'C. Mu\\\\~noz'] tild"
   ]
  },
  {
   "cell_type": "markdown",
   "metadata": {},
   "source": [
    "Pourquoi a-t-on bien traité le fichier ?\n",
    "\n",
    "- Le nombre d'auteurs et de papiers correspond à la somme des fichiers dans les dossier abstracts/{year}\n"
   ]
  },
  {
   "cell_type": "code",
   "execution_count": null,
   "metadata": {},
   "outputs": [],
   "source": [
    "df = pd.DataFrame({ 'id_paper':list_papers, 'Authors':list_authors})"
   ]
  },
  {
   "cell_type": "markdown",
   "metadata": {},
   "source": [
    "On obtient donc un DataFrame avec les numéro des papiers en index et une colonne contenant les auteurs dans une liste.\n",
    "On se pose alors une question : Que se passe t'il si les auteurs sont appelé de différentes manières dans les articles?"
   ]
  },
  {
   "cell_type": "code",
   "execution_count": null,
   "metadata": {},
   "outputs": [],
   "source": [
    "df.shape"
   ]
  },
  {
   "cell_type": "code",
   "execution_count": null,
   "metadata": {
    "scrolled": true
   },
   "outputs": [],
   "source": [
    "df.head()"
   ]
  },
  {
   "cell_type": "code",
   "execution_count": null,
   "metadata": {},
   "outputs": [],
   "source": [
    "df.Authors[37]"
   ]
  },
  {
   "cell_type": "code",
   "execution_count": null,
   "metadata": {},
   "outputs": [],
   "source": [
    "df.Authors[38]"
   ]
  },
  {
   "cell_type": "code",
   "execution_count": null,
   "metadata": {},
   "outputs": [],
   "source": [
    "df.Authors[39]"
   ]
  },
  {
   "cell_type": "markdown",
   "metadata": {},
   "source": [
    "Maintenant on va compiler tout nos résultat dans une seule fonction qui va retourner ce qui peut nous intéresser."
   ]
  },
  {
   "cell_type": "code",
   "execution_count": null,
   "metadata": {},
   "outputs": [],
   "source": [
    "def pre_processing_abstact():\n",
    "    '''\n",
    "    Pre-processing du fichiers abstracts. \n",
    "    Retourne une liste de listes des liens.\n",
    "    '''"
   ]
  },
  {
   "cell_type": "markdown",
   "metadata": {},
   "source": [
    "Est ce que on prend en compte que les data peuvent changer ou on considère que les data ne change pas? Réponse : Oui, il y aura de nouvelles data mais elle seront formatée pareils."
   ]
  },
  {
   "cell_type": "code",
   "execution_count": null,
   "metadata": {},
   "outputs": [],
   "source": [
    "time0 = time()\n",
    "list_authors = []\n",
    "list_papers = []\n",
    "for year, file_by_year in zip(years, files):\n",
    "    for file in sorted(file_by_year):\n",
    "        with open(f\"abstracts/{year}/{file}\",\"r\") as f:\n",
    "            \n",
    "            j=0 # for pass when there is two lines with Authors => 9201039.abs\n",
    "            \n",
    "            for line in f:\n",
    "                if j < 1:\n",
    "                    if line[:9] == \"Authors: \":\n",
    "                        j += 1\n",
    "                        list_authors.append(re.split(' and |, |& ', line[9:-1]))\n",
    "\n",
    "                    if line[:8] == \"Author: \": \n",
    "                        j+= 1\n",
    "                        list_authors.append(re.split(' and |, |& ', line[8:-1]))\n",
    "\n",
    "                    if line[:7]==\"Paper: \":\n",
    "                        list_papers.append(line[14:21])\n",
    "                        \n",
    "dico = {'papers' : list_papers, 'authors': list_authors}\n",
    "execution_time = time() - time0\n",
    "print(execution_time)"
   ]
  },
  {
   "cell_type": "markdown",
   "metadata": {},
   "source": [
    "## Construction d'un dico Publication par auteur"
   ]
  },
  {
   "cell_type": "code",
   "execution_count": null,
   "metadata": {},
   "outputs": [],
   "source": [
    "from collections import defaultdict \n",
    "dico2 = defaultdict(list)\n",
    "for paper in dico[\"papers\"][:5]:\n",
    "    for author in dico[\"authors\"][:5]):\n",
    "    for author in authors:\n",
    "        print(authors)\n",
    "        dico2[auteur].append(paper)\n",
    "dico2"
   ]
  },
  {
   "cell_type": "code",
   "execution_count": null,
   "metadata": {},
   "outputs": [],
   "source": [
    "def pre_processing_abstracts():\n",
    "    dict_p = defaultdict(list)\n",
    "    dict_a = defaultdict(list)\n",
    "\n",
    "    for year, file_by_year in zip(years, files):\n",
    "        for file in sorted(file_by_year):\n",
    "            with open(f\"abstracts/{year}/{file}\",\"r\") as f:\n",
    "                nb_line_author = 0 # for pass when there is two lines with Authors => 9201039.abs\n",
    "                for line in f:\n",
    "                    if nb_line_author < 1:\n",
    "                        if line[:7]==\"Paper: \":\n",
    "                            tmp_paper = line[14:21]\n",
    "\n",
    "                        if line[:9] == \"Authors: \":\n",
    "                            nb_line_author += 1\n",
    "                            dict_p[tmp_paper] = re.split(' and |, |& ', line[9:-1])\n",
    "\n",
    "                        if line[:8] == \"Author: \": \n",
    "                            nb_line_author +=  1\n",
    "                            dict_p[tmp_paper] = re.split(' and |, |& ', line[8:-1])\n",
    "\n",
    "    for paper, authors in dict_p.items():\n",
    "        for author in authors:\n",
    "            dict_a[author].append(paper)\n",
    "    print(\"Abstracts files' pre-processing is done.\")\n",
    "    return dict_p, dict_a\n",
    "\n",
    "pre_processing_abstracts()[1]"
   ]
  },
  {
   "cell_type": "code",
   "execution_count": null,
   "metadata": {},
   "outputs": [],
   "source": [
    "len(dict_a)"
   ]
  },
  {
   "cell_type": "code",
   "execution_count": null,
   "metadata": {},
   "outputs": [],
   "source": [
    "len(dict_p)"
   ]
  },
  {
   "cell_type": "code",
   "execution_count": null,
   "metadata": {},
   "outputs": [],
   "source": [
    "def quote0(author):\n",
    "    \"\"\"\n",
    "    fonction quote avec une profondeur N = 1\n",
    "    \"\"\"\n",
    "    author_quoted = []\n",
    "    paper_quoted = dict_a[author]\n",
    "    for paper in paper_quoted:\n",
    "        for author in dict_p[paper]:\n",
    "            if not author in author_quoted:\n",
    "                author_quoted.append(author)\n",
    "    return author_quoted\n",
    "\n",
    "print(quote0(\"C. Itzykson\"))"
   ]
  },
  {
   "cell_type": "code",
   "execution_count": null,
   "metadata": {},
   "outputs": [],
   "source": [
    "def quote(author, N=1):\n",
    "    \"\"\"\n",
    "    Chercher pour chaque auteur qui la influencé à son tour mais si auteur dans profondeur n-1 ne pas ajouter.\n",
    "    Aussi voir la question de la pondération.\n",
    "    \"\"\"\n",
    "    author_quoted = []\n",
    "    for profondeur in range(N):\n",
    "        author_quoted.append(quote0(author))"
   ]
  }
 ],
 "metadata": {
  "kernelspec": {
   "display_name": "Python 3",
   "language": "python",
   "name": "python3"
  },
  "language_info": {
   "codemirror_mode": {
    "name": "ipython",
    "version": 3
   },
   "file_extension": ".py",
   "mimetype": "text/x-python",
   "name": "python",
   "nbconvert_exporter": "python",
   "pygments_lexer": "ipython3",
   "version": "3.8.6"
  }
 },
 "nbformat": 4,
 "nbformat_minor": 4
}
