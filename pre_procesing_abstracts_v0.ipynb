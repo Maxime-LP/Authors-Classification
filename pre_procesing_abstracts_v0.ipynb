{
 "cells": [
  {
   "cell_type": "code",
   "execution_count": 1,
   "metadata": {},
   "outputs": [],
   "source": [
    "import pandas as pd\n",
    "import re\n",
    "import os\n",
    "from time import time\n",
    "from sys import getsizeof"
   ]
  },
  {
   "cell_type": "markdown",
   "metadata": {},
   "source": [
    "Pourquoi a-t-on bien traité le fichier ?\n",
    "\n",
    "- Le nombre d'auteurs et de papiers correspond à la somme des fichiers dans les dossier abstracts/{year}\n"
   ]
  },
  {
   "cell_type": "markdown",
   "metadata": {},
   "source": [
    "## Construction d'un dico Publication par auteur"
   ]
  },
  {
   "cell_type": "code",
   "execution_count": 6,
   "metadata": {
    "scrolled": false
   },
   "outputs": [
    {
     "name": "stdout",
     "output_type": "stream",
     "text": [
      "Le fichier abstracts contient 29555 fichiers.\n"
     ]
    }
   ],
   "source": [
    "import pandas as pd\n",
    "import numpy as np\n",
    "import re\n",
    "import os\n",
    "from time import time\n",
    "from collections import defaultdict\n",
    "\n",
    "\n",
    "years = sorted(os.listdir('abstracts'))\n",
    "\n",
    "files = []  # attribu en POO ?\n",
    "nb_files = 0\n",
    "i = 0\n",
    "\n",
    "for year in years:\n",
    "    files.append(os.listdir(f'abstracts/{year}'))\n",
    "    nb_files += len(files[i])\n",
    "    i += 1\n",
    "\n",
    "print(f'Le fichier abstracts contient {nb_files} fichiers.')\n",
    "\n",
    "def pre_processing_abstracts():\n",
    "    dict_p = defaultdict(list)\n",
    "    dict_a = defaultdict(list)\n",
    "\n",
    "    for year, file_by_year in zip(years, files):\n",
    "        for file in sorted(file_by_year):\n",
    "            with open(f\"abstracts/{year}/{file}\",\"r\") as f:\n",
    "                nb_line_author = 0 # for pass when there is two lines with Authors => 9201039.abs\n",
    "                for line in f:\n",
    "                    if nb_line_author < 1:\n",
    "                        if line[:7]==\"Paper: \":\n",
    "                            tmp_paper = line[14:21]\n",
    "\n",
    "                        if line[:9] == \"Authors: \":\n",
    "                            nb_line_author += 1\n",
    "                            dict_p[tmp_paper] = re.split(' and |, |& ', line[9:-1])\n",
    "\n",
    "                        if line[:8] == \"Author: \": \n",
    "                            nb_line_author +=  1\n",
    "                            dict_p[tmp_paper] = re.split(' and |, |& ', line[8:-1])\n",
    "\n",
    "    for paper, authors in dict_p.items():\n",
    "        for author in authors:\n",
    "            dict_a[author].append(paper)\n",
    "    print(\"Abstracts files' pre-processing is done.\")\n",
    "    return dict_p, dict_a\n",
    "\n",
    "\n",
    "# Mauvaises entrées:\n",
    "\n",
    "# '18 pages': ['9201047'] => Dieter Lust and Carlos Munoz\n",
    "# ligne 9206083 :  ['J.A. Casas', \"F. G\\\\'omez\", 'C. Mu\\\\~noz'] tild"
   ]
  },
  {
   "cell_type": "code",
   "execution_count": 8,
   "metadata": {},
   "outputs": [
    {
     "name": "stdout",
     "output_type": "stream",
     "text": [
      "Abstracts files' pre-processing is done.\n",
      "On recence 29555 publications et 19675 auteurs dans notre jeu de données.\n"
     ]
    }
   ],
   "source": [
    "dict_p, dict_a = pre_processing_abstracts()\n",
    "nb_pub = len(dict_p)\n",
    "np_author = len(dict_a)\n",
    "print(f'On recence {nb_pub} publications et {np_author} auteurs dans notre jeu de données.')"
   ]
  },
  {
   "cell_type": "code",
   "execution_count": null,
   "metadata": {},
   "outputs": [],
   "source": [
    "def quote0(author):\n",
    "    \"\"\"\n",
    "    fonction quote avec une profondeur N = 1\n",
    "    \"\"\"\n",
    "    author_quoted = []\n",
    "    paper_quoted = dict_a[author] # on récupère les contributions de l'auteur\n",
    "    \n",
    "    # pour chaque contribution, on regarde les papiers cités\n",
    "    # on récupère les auteurs de chaque papier\n",
    "    # et si un auteur n'est pas déjà dans les auteurs cités, on le rajoute à author_quoted\n",
    "    for paper in paper_quoted: \n",
    "        for author in dict_p[paper]:\n",
    "            if not author in author_quoted:\n",
    "                author_quoted.append(author)\n",
    "                \n",
    "    return author_quoted\n",
    "\n",
    "print(quote0(\"C. Itzykson\"))"
   ]
  },
  {
   "cell_type": "code",
   "execution_count": null,
   "metadata": {},
   "outputs": [],
   "source": [
    "def quote(author, N=1):\n",
    "    \"\"\"\n",
    "    Chercher pour chaque auteur qui la influencé à son \n",
    "    tour mais si auteur dans profondeur n-1 ne pas ajouter.\n",
    "    Aussi voir la question de la pondération.\n",
    "    \"\"\"\n",
    "    author_quoted = [[author]]\n",
    "    tmp = []\n",
    "    for i in range(N):\n",
    "        for author in author_quoted[-1]:\n",
    "            tmp.append(quote0(author))\n",
    "            if i == N-1: print(tmp)\n",
    "        for i in tmp:\n",
    "            author_quoted.append([author for author in tmp if author not in author_quoted[-1]])\n",
    "    return author_quoted\n",
    "\n",
    "#quote(\"C. Itzykson\", 2)"
   ]
  },
  {
   "cell_type": "markdown",
   "metadata": {},
   "source": [
    "## Matrice d'adjacence"
   ]
  },
  {
   "cell_type": "markdown",
   "metadata": {},
   "source": [
    "Essayons de créer un matrice d'adjacence de notre communauté de scientifique.\n",
    "On a deux dictionnaires. Un avec les publications en clés et les auteurs en valeurs. Un autre avec les auteurs en clés et les papiers en valeurs.\n",
    "Créons avant tout la matrice!"
   ]
  },
  {
   "cell_type": "code",
   "execution_count": null,
   "metadata": {},
   "outputs": [],
   "source": [
    "print(len(dict_a))\n",
    "\n",
    "adj_matrix_shape = (len(dict_a),len(dict_a))\n",
    "adj_matrix = np.zeros(adj_matrix_shape)"
   ]
  },
  {
   "cell_type": "markdown",
   "metadata": {},
   "source": [
    "Comment créé une ligne ?"
   ]
  },
  {
   "cell_type": "code",
   "execution_count": 13,
   "metadata": {},
   "outputs": [],
   "source": [
    "def adj_matrix():\n",
    "    for author in dict_a.keys(): # on regarde pour chaque chaque auteurs ie chaque clé du dictionnaire\n",
    "        # à l'aide de la fonction quote0 on regarde avec quels auteurs un auteurs à un lien de profondeurs 1\n",
    "        # (se poser la question de la pondération ?)\n",
    "        # puis on met un 1 (ou val intensité cf ponderation) à la colone des auteurs récupérer dans quote0\n",
    "        # ie auteur cité par notre auteur\n",
    "        n = len(dict_a)\n",
    "        for author in quote0(author):\n",
    "            i = -1 # position de la clé ie de notre autreur dans dict_a\n",
    "            j = -1 # position de l'auteur cité par notre auteur dans dict_a\n",
    "            adj_matrix[i][j] = 1\n",
    "        return adj_matrix_matrix"
   ]
  },
  {
   "cell_type": "code",
   "execution_count": 14,
   "metadata": {},
   "outputs": [],
   "source": [
    "# faire une matrice d'adjacence avec un df\n",
    "# index => noms auteurs\n",
    "# columns => noms auteurs\n",
    "# cases => intensité de lien entre les auteurs (orienté)"
   ]
  },
  {
   "cell_type": "code",
   "execution_count": null,
   "metadata": {},
   "outputs": [],
   "source": []
  }
 ],
 "metadata": {
  "kernelspec": {
   "display_name": "Python 3",
   "language": "python",
   "name": "python3"
  },
  "language_info": {
   "codemirror_mode": {
    "name": "ipython",
    "version": 3
   },
   "file_extension": ".py",
   "mimetype": "text/x-python",
   "name": "python",
   "nbconvert_exporter": "python",
   "pygments_lexer": "ipython3",
   "version": "3.8.3"
  }
 },
 "nbformat": 4,
 "nbformat_minor": 4
}
